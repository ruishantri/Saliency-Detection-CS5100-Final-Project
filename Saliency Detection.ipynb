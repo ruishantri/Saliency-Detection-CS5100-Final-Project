{
 "cells": [
  {
   "cell_type": "code",
   "execution_count": null,
   "id": "6b931117-a457-4b9d-98dc-1a25e357678c",
   "metadata": {},
   "outputs": [],
   "source": [
    "!git clone https://github.com/Karel911/TRACER.git"
   ]
  },
  {
   "cell_type": "code",
   "execution_count": 7,
   "id": "1a0726f6-4666-4c05-ae1e-2c51193ee67d",
   "metadata": {},
   "outputs": [
    {
     "name": "stdout",
     "output_type": "stream",
     "text": [
      "<---- Training Params ---->\n",
      "Namespace(action='train', exp_num=0, dataset='DUTS', data_path='', arch='0', channels=[24, 40, 112, 320], RFB_aggregated_channel=[32, 64, 128], frequency_radius=16, denoise=0.93, gamma=0.1, img_size=320, batch_size=4, epochs=100, lr=5e-05, optimizer='Adam', weight_decay=0.0001, criterion='API', scheduler='Reduce', aug_ver=2, lr_factor=0.1, clipping=2, patience=5, model_path='results/', seed=42, save_map=None, multi_gpu=True, num_workers=4)\n",
      "train length : 9\n",
      "val length : 1\n",
      "Loaded pretrained weights for efficientnet-b0\n",
      "100%|█████████████████████████████████████████████| 2/2 [00:14<00:00,  7.30s/it]\n",
      "Epoch:[001/100]\n",
      "Train Loss:464.597 | MAE:0.475\n",
      "0it [00:02, ?it/s]\n",
      "Valid Loss:0.000 | MAE:0.000\n",
      "-----------------SAVE:1epoch----------------\n",
      "100%|█████████████████████████████████████████████| 2/2 [00:14<00:00,  7.06s/it]\n",
      "Epoch:[002/100]\n",
      "Train Loss:437.000 | MAE:0.451\n",
      "0it [00:02, ?it/s]\n",
      "Valid Loss:0.000 | MAE:0.000\n",
      "100%|█████████████████████████████████████████████| 2/2 [00:14<00:00,  7.16s/it]\n",
      "Epoch:[003/100]\n",
      "Train Loss:471.650 | MAE:0.487\n",
      "0it [00:02, ?it/s]\n",
      "Valid Loss:0.000 | MAE:0.000\n",
      "100%|█████████████████████████████████████████████| 2/2 [00:14<00:00,  7.10s/it]\n",
      "Epoch:[004/100]\n",
      "Train Loss:510.336 | MAE:0.471\n",
      "0it [00:02, ?it/s]\n",
      "Valid Loss:0.000 | MAE:0.000\n",
      "100%|█████████████████████████████████████████████| 2/2 [00:14<00:00,  7.16s/it]\n",
      "Epoch:[005/100]\n",
      "Train Loss:471.307 | MAE:0.437\n",
      "0it [00:02, ?it/s]\n",
      "Valid Loss:0.000 | MAE:0.000\n",
      "100%|█████████████████████████████████████████████| 2/2 [00:14<00:00,  7.24s/it]\n",
      "Epoch:[006/100]\n",
      "Train Loss:427.377 | MAE:0.392\n",
      "0it [00:02, ?it/s]\n",
      "Valid Loss:0.000 | MAE:0.000\n",
      "100%|█████████████████████████████████████████████| 2/2 [00:14<00:00,  7.11s/it]\n",
      "Epoch:[007/100]\n",
      "Train Loss:436.894 | MAE:0.394\n",
      "0it [00:02, ?it/s]\n",
      "Valid Loss:0.000 | MAE:0.000\n",
      "100%|█████████████████████████████████████████████| 2/2 [00:14<00:00,  7.16s/it]\n",
      "Epoch:[008/100]\n",
      "Train Loss:423.144 | MAE:0.390\n",
      "0it [00:02, ?it/s]\n",
      "Valid Loss:0.000 | MAE:0.000\n",
      "100%|█████████████████████████████████████████████| 2/2 [00:14<00:00,  7.14s/it]\n",
      "Epoch:[009/100]\n",
      "Train Loss:363.228 | MAE:0.356\n",
      "0it [00:02, ?it/s]\n",
      "Valid Loss:0.000 | MAE:0.000\n",
      "100%|█████████████████████████████████████████████| 2/2 [00:14<00:00,  7.18s/it]\n",
      "Epoch:[010/100]\n",
      "Train Loss:395.146 | MAE:0.359\n",
      "0it [00:02, ?it/s]\n",
      "Valid Loss:0.000 | MAE:0.000\n",
      "100%|█████████████████████████████████████████████| 2/2 [00:14<00:00,  7.09s/it]\n",
      "Epoch:[011/100]\n",
      "Train Loss:390.434 | MAE:0.356\n",
      "0it [00:02, ?it/s]\n",
      "Valid Loss:0.000 | MAE:0.000\n",
      "\n",
      "Best Val Epoch:1 | Val Loss:0.000 | Val MAE:0.000 time: 3.071M\n",
      "###### pre-trained Model restored #####\n",
      "test length : 0\n",
      "Dataset:DUTS\n",
      "0it [00:02, ?it/s]\n",
      "Test Loss:0.000 | MAX_F:0.000 | AVG_F:0.000 | MAE:0.000 | S_Measure:0.000, time: 186.373s\n",
      "###### pre-trained Model restored #####\n",
      "test length : 0\n",
      "Dataset:DUT-O\n",
      "0it [00:02, ?it/s]\n",
      "Test Loss:0.000 | MAX_F:0.000 | AVG_F:0.000 | MAE:0.000 | S_Measure:0.000, time: 188.492s\n",
      "###### pre-trained Model restored #####\n",
      "test length : 0\n",
      "Dataset:HKU-IS\n",
      "0it [00:02, ?it/s]\n",
      "Test Loss:0.000 | MAX_F:0.000 | AVG_F:0.000 | MAE:0.000 | S_Measure:0.000, time: 190.670s\n",
      "###### pre-trained Model restored #####\n",
      "test length : 0\n",
      "Dataset:ECSSD\n",
      "0it [00:02, ?it/s]\n",
      "Test Loss:0.000 | MAX_F:0.000 | AVG_F:0.000 | MAE:0.000 | S_Measure:0.000, time: 192.790s\n",
      "###### pre-trained Model restored #####\n",
      "test length : 0\n",
      "Dataset:PASCAL-S\n",
      "0it [00:02, ?it/s]\n",
      "Test Loss:0.000 | MAX_F:0.000 | AVG_F:0.000 | MAE:0.000 | S_Measure:0.000, time: 194.941s\n",
      "Total Process time:3.249Minute\n"
     ]
    }
   ],
   "source": [
    "!python main.py train --arch 0 --img_size 320 --data_path \"\" --multi_gpu True --batch_size 4 --epochs 100"
   ]
  },
  {
   "cell_type": "code",
   "execution_count": null,
   "id": "51b05fc5-1310-4fe1-ba0e-32653ac107eb",
   "metadata": {},
   "outputs": [],
   "source": []
  },
  {
   "cell_type": "code",
   "execution_count": null,
   "id": "57c14f7d-4cb2-434c-9b09-7996c67c5cd6",
   "metadata": {},
   "outputs": [],
   "source": []
  }
 ],
 "metadata": {
  "kernelspec": {
   "display_name": "Python 3 (ipykernel)",
   "language": "python",
   "name": "python3"
  },
  "language_info": {
   "codemirror_mode": {
    "name": "ipython",
    "version": 3
   },
   "file_extension": ".py",
   "mimetype": "text/x-python",
   "name": "python",
   "nbconvert_exporter": "python",
   "pygments_lexer": "ipython3",
   "version": "3.12.4"
  }
 },
 "nbformat": 4,
 "nbformat_minor": 5
}
